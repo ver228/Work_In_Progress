{
 "cells": [
  {
   "cell_type": "code",
   "execution_count": 21,
   "metadata": {
    "collapsed": true
   },
   "outputs": [],
   "source": [
    "%matplotlib inline\n",
    "import os\n",
    "import glob\n",
    "import pandas as pd\n",
    "import numpy as np\n",
    "import tables\n",
    "import seaborn as sns\n",
    "import matplotlib.pylab as plt\n",
    "from scipy.signal import medfilt\n",
    "from tierpsy.analysis.feat_create.obtainFeaturesHelper import WormStats\n",
    "from scipy.stats import ttest_ind"
   ]
  },
  {
   "cell_type": "code",
   "execution_count": 2,
   "metadata": {},
   "outputs": [],
   "source": [
    "fps = 25\n",
    "time_window_s = 10\n",
    "THRESH = 10\n",
    "\n",
    "#masks_dir = '/Volumes/SAMSUNG_USB/David_Miller/DM_unc-4_Adult_L4_060417/'\n",
    "#results_dir = '/Volumes/SAMSUNG_USB/David_Miller/DM_unc-4_Adult_L4_060417/Results'\n",
    "masks_dir = '/Volumes/behavgenom_archive$/Avelino/screening/David_Miller/MaskedVideos/DM_unc-4_Adult_L4_060417'\n",
    "results_dir = masks_dir.replace('MaskedVideos', 'Results')\n",
    "\n",
    "feat_files = glob.glob(os.path.join(results_dir, '*_features.hdf5'))\n",
    "files_in_set = [[] for n in range(4)]\n",
    "set_types = ['Adult on food', 'Adult off food','L4 on food', 'L4 off food']\n",
    "for feat_file in feat_files:\n",
    "    base_name = os.path.basename(feat_file).replace('_features.hdf5', '')\n",
    "    \n",
    "    set_n = int(base_name.partition('_Set')[-1].partition('_')[0])\n",
    "    files_in_set[set_n-1].append(feat_file)\n"
   ]
  },
  {
   "cell_type": "code",
   "execution_count": null,
   "metadata": {
    "scrolled": false
   },
   "outputs": [],
   "source": [
    "# feat_file = files_in_set[1][3]\n",
    "\n",
    "# with pd.HDFStore(feat_file, 'r') as fid:\n",
    "#     feat_timeseries = fid['/features_timeseries']\n",
    "        \n",
    "\n",
    "# for worm_index, tab in feat_timeseries.groupby('worm_index'):\n",
    "#     yy = tab['midbody_speed']\n",
    "#     #yy = tab['length']\n",
    "#     yy_med = medfilt(yy, 13)\n",
    "\n",
    "#     is_reaction = (yy_med<-THRESH)*10\n",
    "    \n",
    "\n",
    "#     feat_timeseries.loc[tab.index, 'is_reaction'] = is_reaction\n",
    "    \n",
    "#     plt.figure(figsize=(15,5))\n",
    "#     plt.plot(yy.values)\n",
    "#     plt.plot(yy_med)\n",
    "#     plt.plot(is_reaction)\n",
    "#     plt.ylim((-20, 20))\n"
   ]
  },
  {
   "cell_type": "code",
   "execution_count": 14,
   "metadata": {
    "scrolled": true
   },
   "outputs": [],
   "source": [
    "def add_is_reaction(feat_timeseries, th, is_reversal):\n",
    "    feat_timeseries['is_reaction'] = 0\n",
    "    for worm_index, tab in feat_timeseries.groupby('worm_index'):\n",
    "        yy = tab['midbody_speed']\n",
    "        #yy = tab['length']\n",
    "        yy_med = medfilt(yy, 13)\n",
    "\n",
    "        if is_reversal:\n",
    "            feat_timeseries.loc[tab.index, 'is_reaction'] = (yy_med<-th)\n",
    "        else:\n",
    "            feat_timeseries.loc[tab.index, 'is_reaction'] = (yy_med>th)\n",
    "\n",
    "    return feat_timeseries\n",
    "\n",
    "def calc_n_worms(feat_timeseries):\n",
    "    n_per_frame = feat_timeseries['timestamp'].value_counts()\n",
    "    n_per_frame = n_per_frame.values\n",
    "    if len(n_per_frame) > 0:\n",
    "        n_worms_estimate = np.percentile(n_per_frame, 99)\n",
    "    else:\n",
    "        n_worms_estimate = 0\n",
    "    return n_worms_estimate\n",
    "\n",
    "\n",
    "def get_reaction_fraction(feat_timeseries, th, is_reversal, time_window_s, fps, frac_freq = None):\n",
    "    if frac_freq is None:\n",
    "        frac_freq = fps\n",
    "\n",
    "    feat_timeseries = add_is_reaction(feat_timeseries, th, is_reversal)\n",
    "    n_worms_estimate = calc_n_worms(feat_timeseries)\n",
    "    \n",
    "    first_frame = int(feat_timeseries['timestamp'].min())\n",
    "    last_frame = int(feat_timeseries['timestamp'].max())\n",
    "    \n",
    "    frame_win = int((time_window_s)*fps)\n",
    "    min_traj_size = 0.9*(frame_win+1)\n",
    "\n",
    "    react_frac = np.full(last_frame+1, np.nan)\n",
    "    half_win = frame_win//2\n",
    "    for ini_win in range(first_frame, last_frame-half_win, frac_freq):\n",
    "        last_win = ini_win + frame_win\n",
    "        good = (feat_timeseries['timestamp']>=ini_win) & (feat_timeseries['timestamp']<=last_win)\n",
    "\n",
    "        win_data = feat_timeseries[good]\n",
    "\n",
    "        #print(ini_win, last_win, win_data.shape)\n",
    "        good_ind = win_data['worm_index'].value_counts() >= min_traj_size\n",
    "        valid_ind = good_ind[good_ind.values].index\n",
    "        good = win_data['worm_index'].isin(valid_ind)\n",
    "        win_data_v = win_data[good]\n",
    "\n",
    "        if win_data_v.size == 0:\n",
    "            continue\n",
    "\n",
    "        has_event = win_data_v.groupby('worm_index').agg({'is_reaction':np.max})\n",
    "\n",
    "        react_frac[ini_win + half_win] = np.sum(has_event['is_reaction'])/n_worms_estimate\n",
    "    \n",
    "    return react_frac\n"
   ]
  },
  {
   "cell_type": "code",
   "execution_count": null,
   "metadata": {
    "scrolled": true
   },
   "outputs": [],
   "source": [
    "reversal_frac = []\n",
    "for set_type, feat_files in zip(set_types, files_in_set):\n",
    "    plt.figure(figsize=(15,15))\n",
    "    for ii, feat_file in enumerate(feat_files):\n",
    "        base_name = os.path.basename(feat_file).replace('_features.hdf5', '')\n",
    "        strain = base_name.split('_')[0]\n",
    "        \n",
    "        n_channel = int(base_name.partition('_Ch')[-1].partition('_')[0])\n",
    "        isub = 2*(n_channel-1)+1 if n_channel <= 3 else 2*(n_channel-3)\n",
    "        \n",
    "        with pd.HDFStore(feat_file, 'r') as fid:\n",
    "            feat_timeseries = fid['/features_timeseries']\n",
    "        \n",
    "        rev_frac = get_reversal_fraction(feat_timeseries, \n",
    "                                         th=THRESH, \n",
    "                                         is_reversal=True, \n",
    "                                         time_window_s=time_window_s, \n",
    "                                         fps=fps)\n",
    "        good = ~np.isnan(rev_frac)\n",
    "        xx = np.where(good)[0]/fps\n",
    "        yy = rev_frac[good]\n",
    "        \n",
    "        plt.subplot(3,2, isub)\n",
    "        plt.plot(xx, yy)\n",
    "        \n",
    "        plt.title(strain)\n",
    "        plt.xlabel('time (s)')\n",
    "        plt.ylim((0,1))\n",
    "        \n",
    "        reversal_frac.append((set_type, strain, n_channel, np.nanmean(yy)))\n",
    "        \n",
    "    plt.suptitle(set_type)\n",
    "reversal_frac = pd.DataFrame(reversal_frac, columns=['conditions', 'strain', 'channel', 'reversal_fraction'])\n",
    "\n"
   ]
  },
  {
   "cell_type": "code",
   "execution_count": null,
   "metadata": {},
   "outputs": [],
   "source": [
    "sns.set(font_scale=1.3)\n",
    "g = sns.FacetGrid(reversal_frac, row=\"conditions\", size=5, aspect=1)\n",
    "g = g.map(sns.boxplot, \"strain\", 'reversal_fraction')\n",
    "g = g.map(sns.stripplot, \"strain\", 'reversal_fraction', color=\"r\")"
   ]
  },
  {
   "cell_type": "code",
   "execution_count": 22,
   "metadata": {},
   "outputs": [
    {
     "name": "stdout",
     "output_type": "stream",
     "text": [
      "        condition   p_value\n",
      "0  Adult off food  0.011884\n",
      "1   Adult on food  0.050194\n",
      "2     L4 off food  0.073374\n",
      "3      L4 on food  0.177862\n"
     ]
    }
   ],
   "source": [
    "p_values = []\n",
    "for conditions, s_data in reversal_frac.groupby('conditions'):\n",
    "    fraction_reaction = s_data['reversal_fraction']\n",
    "    x = fraction_reaction[s_data['strain']=='unc-4 (c2323)'].values\n",
    "    y = fraction_reaction[s_data['strain']=='unc-4 (c2323);ceh-12'].values\n",
    "\n",
    "    _, p = ttest_ind(x,y, equal_var=False)\n",
    "\n",
    "    p_values.append((conditions, p))\n",
    "\n",
    "p_values = pd.DataFrame(p_values, columns=['condition', 'p_value'])\n",
    "    \n",
    "print(p_values)"
   ]
  },
  {
   "cell_type": "code",
   "execution_count": null,
   "metadata": {
    "collapsed": true
   },
   "outputs": [],
   "source": []
  }
 ],
 "metadata": {
  "kernelspec": {
   "display_name": "Python 3",
   "language": "python",
   "name": "python3"
  },
  "language_info": {
   "codemirror_mode": {
    "name": "ipython",
    "version": 3
   },
   "file_extension": ".py",
   "mimetype": "text/x-python",
   "name": "python",
   "nbconvert_exporter": "python",
   "pygments_lexer": "ipython3",
   "version": "3.6.1"
  }
 },
 "nbformat": 4,
 "nbformat_minor": 2
}
