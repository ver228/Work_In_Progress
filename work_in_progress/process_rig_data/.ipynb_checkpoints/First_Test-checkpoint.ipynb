{
 "cells": [
  {
   "cell_type": "code",
   "execution_count": 15,
   "metadata": {
    "collapsed": true
   },
   "outputs": [],
   "source": [
    "%matplotlib inline\n",
    "import os\n",
    "\n",
    "from plot_db import plot_db\n",
    "DATABASE_DIR = '/Users/ajaver/OneDrive - Imperial College London/compare_strains_DB'\n",
    "\n",
    "tab_name = 'features_medians_split'\n",
    "filt_path_range = 0\n",
    "filt_frac_good = 0"
   ]
  },
  {
   "cell_type": "code",
   "execution_count": 16,
   "metadata": {
    "collapsed": false
   },
   "outputs": [],
   "source": [
    "database_name = 'control_experiments_Test_20161027.db'\n",
    "db_path = os.path.join(DATABASE_DIR, database_name)\n",
    "db_first_test = plot_db(db_path, filt_path_range, filt_frac_good, tab_name)"
   ]
  },
  {
   "cell_type": "code",
   "execution_count": null,
   "metadata": {
    "collapsed": true
   },
   "outputs": [],
   "source": [
    "db_first_test.plot(['length',  'Strain', 'Picker'])\n",
    "db_first_test.plot(['midbody_speed_pos',  'Strain', 'Picker'])\n",
    "db_first_test.plot(['midbody_speed_pos', 'N_Worms', 'Strain'])\n"
   ]
  }
 ],
 "metadata": {
  "kernelspec": {
   "display_name": "Python 3",
   "language": "python",
   "name": "python3"
  },
  "language_info": {
   "codemirror_mode": {
    "name": "ipython",
    "version": 3
   },
   "file_extension": ".py",
   "mimetype": "text/x-python",
   "name": "python",
   "nbconvert_exporter": "python",
   "pygments_lexer": "ipython3",
   "version": "3.5.2"
  }
 },
 "nbformat": 4,
 "nbformat_minor": 1
}
